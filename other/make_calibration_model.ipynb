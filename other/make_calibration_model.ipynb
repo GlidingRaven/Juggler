{
 "cells": [
  {
   "cell_type": "code",
   "execution_count": 1,
   "id": "981bd60b",
   "metadata": {},
   "outputs": [],
   "source": [
    "import numpy as np\n",
    "import pandas as pd\n",
    "import matplotlib.pyplot as plt\n",
    "import random, math, time\n",
    "import pickle\n",
    "from sklearn import model_selection, datasets, linear_model, metrics, svm\n",
    "from sklearn.preprocessing import StandardScaler, PolynomialFeatures\n",
    "from sklearn.multioutput import MultiOutputRegressor\n",
    "from sklearn.pipeline import Pipeline\n",
    "# from sklearn.linear_model import LinearRegression\n",
    "import warnings\n",
    "warnings.filterwarnings('ignore')"
   ]
  },
  {
   "cell_type": "markdown",
   "id": "abb02eb7",
   "metadata": {},
   "source": [
    "### Загрузим файл и разобъем на train/test:"
   ]
  },
  {
   "cell_type": "code",
   "execution_count": 13,
   "id": "f6a5f31a",
   "metadata": {},
   "outputs": [
    {
     "name": "stdout",
     "output_type": "stream",
     "text": [
      "Shapes of train:(36, 9)   test:(3, 9)   and all:(39, 9)\n"
     ]
    }
   ],
   "source": [
    "data = pd.read_csv('data/' + 'calibration_dots3.csv')\n",
    "\n",
    "full_train_data = data.iloc[0:36, :]\n",
    "full_test_data = data.iloc[36:, :]\n",
    "\n",
    "print('Shapes of train:{}   test:{}   and all:{}'.format(full_train_data.shape, full_test_data.shape, data.shape))"
   ]
  },
  {
   "cell_type": "markdown",
   "id": "68b58c8d",
   "metadata": {},
   "source": [
    "## Точки калибровки\n",
    "### Представлены в формате (координаты с 1cam), (координаты с 2cam), (реальные координаты)"
   ]
  },
  {
   "cell_type": "code",
   "execution_count": 3,
   "id": "8a3863bf",
   "metadata": {},
   "outputs": [
    {
     "data": {
      "text/html": [
       "<div>\n",
       "<style scoped>\n",
       "    .dataframe tbody tr th:only-of-type {\n",
       "        vertical-align: middle;\n",
       "    }\n",
       "\n",
       "    .dataframe tbody tr th {\n",
       "        vertical-align: top;\n",
       "    }\n",
       "\n",
       "    .dataframe thead th {\n",
       "        text-align: right;\n",
       "    }\n",
       "</style>\n",
       "<table border=\"1\" class=\"dataframe\">\n",
       "  <thead>\n",
       "    <tr style=\"text-align: right;\">\n",
       "      <th></th>\n",
       "      <th>x</th>\n",
       "      <th>y</th>\n",
       "      <th>r</th>\n",
       "      <th>x2</th>\n",
       "      <th>y2</th>\n",
       "      <th>r2</th>\n",
       "      <th>x_real</th>\n",
       "      <th>y_real</th>\n",
       "      <th>z_real</th>\n",
       "    </tr>\n",
       "  </thead>\n",
       "  <tbody>\n",
       "    <tr>\n",
       "      <th>0</th>\n",
       "      <td>212</td>\n",
       "      <td>344</td>\n",
       "      <td>15</td>\n",
       "      <td>347</td>\n",
       "      <td>326</td>\n",
       "      <td>7</td>\n",
       "      <td>-15</td>\n",
       "      <td>-15</td>\n",
       "      <td>0</td>\n",
       "    </tr>\n",
       "    <tr>\n",
       "      <th>1</th>\n",
       "      <td>209</td>\n",
       "      <td>237</td>\n",
       "      <td>14</td>\n",
       "      <td>357</td>\n",
       "      <td>339</td>\n",
       "      <td>8</td>\n",
       "      <td>0</td>\n",
       "      <td>-15</td>\n",
       "      <td>0</td>\n",
       "    </tr>\n",
       "    <tr>\n",
       "      <th>2</th>\n",
       "      <td>214</td>\n",
       "      <td>130</td>\n",
       "      <td>14</td>\n",
       "      <td>361</td>\n",
       "      <td>359</td>\n",
       "      <td>9</td>\n",
       "      <td>15</td>\n",
       "      <td>-15</td>\n",
       "      <td>0</td>\n",
       "    </tr>\n",
       "  </tbody>\n",
       "</table>\n",
       "</div>"
      ],
      "text/plain": [
       "     x    y   r   x2   y2  r2  x_real  y_real  z_real\n",
       "0  212  344  15  347  326   7     -15     -15       0\n",
       "1  209  237  14  357  339   8       0     -15       0\n",
       "2  214  130  14  361  359   9      15     -15       0"
      ]
     },
     "execution_count": 3,
     "metadata": {},
     "output_type": "execute_result"
    }
   ],
   "source": [
    "data.head(3)"
   ]
  },
  {
   "cell_type": "markdown",
   "id": "66e9f2a7",
   "metadata": {},
   "source": [
    "### Первая модель находит координату z_real как среднее выходов двух моделей по y, y2 и по x, x2"
   ]
  },
  {
   "cell_type": "code",
   "execution_count": 56,
   "id": "8f595bed",
   "metadata": {},
   "outputs": [
    {
     "name": "stdout",
     "output_type": "stream",
     "text": [
      "MAE =  0.31933886506035886\n",
      "Coefficients:  [ 0.         -1.59965462  3.9308887  -2.40994563 -9.3820763   2.0147859 ]\n"
     ]
    }
   ],
   "source": [
    "features = ['y', 'x2']\n",
    "train_labels = full_train_data[['z_real']]\n",
    "test_labels = full_test_data[['z_real']]\n",
    "train_data = full_train_data[features]\n",
    "test_data = full_test_data[features]\n",
    "\n",
    "poly1 = PolynomialFeatures(2)\n",
    "scaler1 = StandardScaler()\n",
    "regressor1 = linear_model.LinearRegression()\n",
    "\n",
    "pipeline1 = Pipeline(steps = [('polynomial', poly1), ('scaling', scaler1), ('regression', regressor1)])\n",
    "pipeline1.fit(train_data, train_labels)\n",
    "\n",
    "pred = pipeline1.predict(test_data)\n",
    "mae = metrics.mean_absolute_error(test_labels, pred)\n",
    "print('MAE = ',  mae)\n",
    "print('Coefficients: ', *regressor1.coef_)"
   ]
  },
  {
   "cell_type": "code",
   "execution_count": 54,
   "id": "ba657720",
   "metadata": {},
   "outputs": [
    {
     "name": "stdout",
     "output_type": "stream",
     "text": [
      "MAE =  0.4303866491587443\n",
      "Coefficients:  [  0.          -4.49916939 -13.54758999   0.16032307   8.35585825\n",
      "  -3.74861091]\n"
     ]
    }
   ],
   "source": [
    "features = ['x', 'y2']\n",
    "train_labels = full_train_data[['z_real']]\n",
    "test_labels = full_test_data[['z_real']]\n",
    "train_data = full_train_data[features]\n",
    "test_data = full_test_data[features]\n",
    "\n",
    "poly2 = PolynomialFeatures(2)\n",
    "scaler2 = StandardScaler()\n",
    "regressor2 = linear_model.LinearRegression()\n",
    "\n",
    "pipeline2 = Pipeline(steps = [('polynomial', poly2), ('scaling', scaler2), ('regression', regressor2)])\n",
    "pipeline2.fit(train_data, train_labels)\n",
    "\n",
    "pred = pipeline2.predict(test_data)\n",
    "mae = metrics.mean_absolute_error(test_labels, pred)\n",
    "print('MAE = ',  mae)\n",
    "print('Coefficients: ', *regressor2.coef_)"
   ]
  },
  {
   "cell_type": "markdown",
   "id": "12dced28",
   "metadata": {},
   "source": [
    "### Вторая модель находит координаты x_real, y_real по x, x2, z_real"
   ]
  },
  {
   "cell_type": "code",
   "execution_count": 55,
   "id": "d4d63616",
   "metadata": {},
   "outputs": [
    {
     "name": "stdout",
     "output_type": "stream",
     "text": [
      "MAE =  0.19551530139657705 0.1506113135961822\n",
      "\n",
      "Coefficients of x_real part:  [ 0.          2.56862393 -7.96972716 -1.07833142  1.26938974 11.18486378\n",
      "  1.12948224  0.25593143 -0.3219025   0.40289879] \n",
      "\n",
      "Coefficients of y_real part:  [  0.          -7.95969178 -22.02553762   1.53436652   0.17625752\n",
      "   9.4188145   -0.79749844   2.41683537  -0.38577829  -0.36742528] \n",
      "\n"
     ]
    }
   ],
   "source": [
    "features = ['x', 'x2', 'z_real']\n",
    "train_labels = full_train_data[['x_real', 'y_real']]\n",
    "test_labels = full_test_data[['x_real', 'y_real']]\n",
    "train_data = full_train_data[features]\n",
    "test_data = full_test_data[features]\n",
    "\n",
    "poly3 = PolynomialFeatures(2)\n",
    "scaler3 = StandardScaler()\n",
    "regressor3 = MultiOutputRegressor(linear_model.LinearRegression())\n",
    "\n",
    "pipeline3 = Pipeline(steps = [('polynomial', poly3), ('scaling', scaler3), ('regression', regressor3)])\n",
    "pipeline3.fit(train_data, train_labels)\n",
    "\n",
    "pred = pipeline3.predict(test_data)\n",
    "mae = metrics.mean_absolute_error(test_labels, pred, multioutput='raw_values')\n",
    "print('MAE = ',  *mae)\n",
    "\n",
    "print('\\nCoefficients of x_real part: ', regressor3.estimators_[0].coef_, '\\n')\n",
    "print('Coefficients of y_real part: ', regressor3.estimators_[1].coef_, '\\n')"
   ]
  },
  {
   "cell_type": "markdown",
   "id": "99ae0ace",
   "metadata": {},
   "source": [
    "## Сохраним все 3 модели в один файл"
   ]
  },
  {
   "cell_type": "code",
   "execution_count": 60,
   "id": "d6c67575",
   "metadata": {},
   "outputs": [],
   "source": [
    "models = [pipeline1, pipeline2, pipeline3]\n",
    "\n",
    "# pickle.dump(pipeline1, open('data/calibration_model_1_1.sav', 'wb')) # save model\n",
    "\n",
    "with open('data/calibration_models.sav', \"wb\") as file:\n",
    "    for model in models:\n",
    "         pickle.dump(model, file)"
   ]
  },
  {
   "cell_type": "markdown",
   "id": "15e487d9",
   "metadata": {},
   "source": [
    "#### Проверяем:"
   ]
  },
  {
   "cell_type": "code",
   "execution_count": 65,
   "id": "680aa060",
   "metadata": {},
   "outputs": [
    {
     "name": "stdout",
     "output_type": "stream",
     "text": [
      "[[ 0.45325717]\n",
      " [20.58668084]\n",
      " [29.74877806]]\n",
      "[0.39906273189801844, 20.519244091195404, 29.79371855176477]\n",
      "MAE =  0.374862757109551\n"
     ]
    }
   ],
   "source": [
    "my_models = []\n",
    "with open('data/calibration_models.sav', \"rb\") as file:\n",
    "    while True:\n",
    "        try:\n",
    "            my_models.append(pickle.load(file))\n",
    "        except EOFError:\n",
    "            break\n",
    "\n",
    "pred1 = my_models[0].predict(full_test_data[['y', 'x2']])\n",
    "pred2 = my_models[1].predict(full_test_data[['x', 'y2']])\n",
    "print(pred2)\n",
    "avg = []\n",
    "for i in range(len(pred1)):\n",
    "    avg.append(float(pred1[i]+pred2[i])/2)\n",
    "print(avg)\n",
    "mae = metrics.mean_absolute_error(test_labels, avg, multioutput='raw_values')\n",
    "print('MAE = ',  *mae)"
   ]
  },
  {
   "cell_type": "code",
   "execution_count": null,
   "id": "49247a3a",
   "metadata": {},
   "outputs": [],
   "source": []
  }
 ],
 "metadata": {
  "kernelspec": {
   "display_name": "Python 3",
   "language": "python",
   "name": "python3"
  },
  "language_info": {
   "codemirror_mode": {
    "name": "ipython",
    "version": 3
   },
   "file_extension": ".py",
   "mimetype": "text/x-python",
   "name": "python",
   "nbconvert_exporter": "python",
   "pygments_lexer": "ipython3",
   "version": "3.8.8"
  }
 },
 "nbformat": 4,
 "nbformat_minor": 5
}
