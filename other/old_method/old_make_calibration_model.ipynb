{
 "cells": [
  {
   "cell_type": "code",
   "execution_count": 369,
   "id": "85dcacc7",
   "metadata": {},
   "outputs": [
    {
     "name": "stdout",
     "output_type": "stream",
     "text": [
      "[[0 1 2]\n",
      " [3 4 5]] \n",
      "\n",
      " [[ 1.  0.  1.  2.  0.  0.  0.  1.  2.  4.]\n",
      " [ 1.  3.  4.  5.  9. 12. 15. 16. 20. 25.]]\n"
     ]
    }
   ],
   "source": [
    "import numpy as np\n",
    "import pandas as pd\n",
    "import matplotlib.pyplot as plt\n",
    "import random, math, time\n",
    "import pickle\n",
    "from sklearn import model_selection, datasets, linear_model, metrics, svm\n",
    "from sklearn.preprocessing import StandardScaler, PolynomialFeatures\n",
    "from sklearn.multioutput import MultiOutputRegressor\n",
    "from sklearn.pipeline import Pipeline\n",
    "import warnings\n",
    "warnings.filterwarnings('ignore')\n",
    "\n",
    "X = np.arange(6).reshape(2, 3)\n",
    "poly = PolynomialFeatures(2)\n",
    "print(X, '\\n\\n',poly.fit_transform(X) )"
   ]
  },
  {
   "cell_type": "markdown",
   "id": "fa376a17",
   "metadata": {},
   "source": [
    "### Сверху видно, как работает PolynomialFeatures\n",
    "### Загрузим файл и разобъем на train/test:"
   ]
  },
  {
   "cell_type": "code",
   "execution_count": 370,
   "id": "e70b6b1c",
   "metadata": {},
   "outputs": [
    {
     "name": "stdout",
     "output_type": "stream",
     "text": [
      "Shapes of train:(36, 9)   test:(3, 9)   and all:(39, 9)\n"
     ]
    }
   ],
   "source": [
    "data = pd.read_csv('data/' + 'calibration_dots.csv')\n",
    "\n",
    "full_train_data = data.iloc[0:36, :]\n",
    "full_test_data = data.iloc[36:, :]\n",
    "\n",
    "print('Shapes of train:{}   test:{}   and all:{}'.format(full_train_data.shape, full_test_data.shape, data.shape))"
   ]
  },
  {
   "cell_type": "markdown",
   "id": "868e59b0",
   "metadata": {},
   "source": [
    "## Точки калибровки\n",
    "### Представлены в формате (координаты с 1cam), (координаты с 2cam), (реальные координаты)"
   ]
  },
  {
   "cell_type": "code",
   "execution_count": 315,
   "id": "6eb05ec0",
   "metadata": {},
   "outputs": [
    {
     "data": {
      "text/html": [
       "<div>\n",
       "<style scoped>\n",
       "    .dataframe tbody tr th:only-of-type {\n",
       "        vertical-align: middle;\n",
       "    }\n",
       "\n",
       "    .dataframe tbody tr th {\n",
       "        vertical-align: top;\n",
       "    }\n",
       "\n",
       "    .dataframe thead th {\n",
       "        text-align: right;\n",
       "    }\n",
       "</style>\n",
       "<table border=\"1\" class=\"dataframe\">\n",
       "  <thead>\n",
       "    <tr style=\"text-align: right;\">\n",
       "      <th></th>\n",
       "      <th>x</th>\n",
       "      <th>y</th>\n",
       "      <th>r</th>\n",
       "      <th>x2</th>\n",
       "      <th>y2</th>\n",
       "      <th>r2</th>\n",
       "      <th>x_real</th>\n",
       "      <th>y_real</th>\n",
       "      <th>z_real</th>\n",
       "    </tr>\n",
       "  </thead>\n",
       "  <tbody>\n",
       "    <tr>\n",
       "      <th>0</th>\n",
       "      <td>212</td>\n",
       "      <td>344</td>\n",
       "      <td>15</td>\n",
       "      <td>347</td>\n",
       "      <td>326</td>\n",
       "      <td>7</td>\n",
       "      <td>-15</td>\n",
       "      <td>-15</td>\n",
       "      <td>0</td>\n",
       "    </tr>\n",
       "    <tr>\n",
       "      <th>1</th>\n",
       "      <td>209</td>\n",
       "      <td>237</td>\n",
       "      <td>14</td>\n",
       "      <td>357</td>\n",
       "      <td>339</td>\n",
       "      <td>8</td>\n",
       "      <td>0</td>\n",
       "      <td>-15</td>\n",
       "      <td>0</td>\n",
       "    </tr>\n",
       "    <tr>\n",
       "      <th>2</th>\n",
       "      <td>214</td>\n",
       "      <td>130</td>\n",
       "      <td>14</td>\n",
       "      <td>361</td>\n",
       "      <td>359</td>\n",
       "      <td>9</td>\n",
       "      <td>15</td>\n",
       "      <td>-15</td>\n",
       "      <td>0</td>\n",
       "    </tr>\n",
       "  </tbody>\n",
       "</table>\n",
       "</div>"
      ],
      "text/plain": [
       "     x    y   r   x2   y2  r2  x_real  y_real  z_real\n",
       "0  212  344  15  347  326   7     -15     -15       0\n",
       "1  209  237  14  357  339   8       0     -15       0\n",
       "2  214  130  14  361  359   9      15     -15       0"
      ]
     },
     "execution_count": 315,
     "metadata": {},
     "output_type": "execute_result"
    }
   ],
   "source": [
    "data.head(3)"
   ]
  },
  {
   "cell_type": "markdown",
   "id": "c17ee482",
   "metadata": {},
   "source": [
    "### Первая модель находит координату z_real по y2"
   ]
  },
  {
   "cell_type": "code",
   "execution_count": 373,
   "id": "70b0660d",
   "metadata": {},
   "outputs": [
    {
     "name": "stdout",
     "output_type": "stream",
     "text": [
      "MAE =  0.1704939376019965\n",
      "Coefficients:  [ 0.          5.94432221 -6.801733    0.10311616 -7.25001225 -1.42582614]\n"
     ]
    }
   ],
   "source": [
    "train_labels = full_train_data[['z_real']]\n",
    "test_labels = full_test_data[['z_real']]\n",
    "train_data = full_train_data[['y', 'y2']]\n",
    "test_data = full_test_data[['y', 'y2']]\n",
    "# test_labels, test_data = train_labels, train_data\n",
    "# print(train_labels)\n",
    "\n",
    "poly = PolynomialFeatures(2)\n",
    "scaler = StandardScaler()\n",
    "regressor = MultiOutputRegressor(linear_model.LinearRegression())\n",
    "\n",
    "pipeline = Pipeline(steps = [('polynomial', poly), ('scaling', scaler), ('regression', regressor)])\n",
    "pipeline.fit(train_data, train_labels)\n",
    "\n",
    "pickle.dump(pipeline, open('data/calibration_model_1.sav', 'wb')) # save model\n",
    "\n",
    "pred = pipeline.predict(test_data)\n",
    "mae = metrics.mean_absolute_error(test_labels, pred, multioutput='raw_values')\n",
    "print('MAE = ',  *mae)\n",
    "# mse = metrics.mean_squared_error(test_labels, pred, multioutput='raw_values')\n",
    "# print('standart error = ',  math.sqrt(*mse))\n",
    "print('Coefficients: ', regressor.estimators_[0].coef_)"
   ]
  },
  {
   "cell_type": "markdown",
   "id": "e88074da",
   "metadata": {},
   "source": [
    "#### Применение на реальных данных:"
   ]
  },
  {
   "cell_type": "code",
   "execution_count": 374,
   "id": "07b5ca03",
   "metadata": {},
   "outputs": [
    {
     "name": "stdout",
     "output_type": "stream",
     "text": [
      "[array([-0.19907564])]\n",
      "[array([19.78946828])]\n",
      "[array([30.10187445])]\n"
     ]
    }
   ],
   "source": [
    "arr = [[375,184,14,241,353,10,7,7,0], [259,308,22,308,242,8,-7,-7,20], [332,243,27,274,191,8,0,0,30]] # Shuld be 0, 20, 30\n",
    "for ab in arr:\n",
    "    kek = [ab[1], ab[4]]\n",
    "    aza = np.array(kek, dtype=np.float64).reshape(1, -1)\n",
    "    pred = pipeline.predict(aza)\n",
    "    print(list(pred))"
   ]
  },
  {
   "cell_type": "markdown",
   "id": "61c4cdfb",
   "metadata": {},
   "source": [
    "### Вторая модель находит координаты x_real, y_real по x, y, z_real\n",
    "#### Обе модели аппроксимируются Полиномом 2й степени"
   ]
  },
  {
   "cell_type": "code",
   "execution_count": 376,
   "id": "98c6920c",
   "metadata": {},
   "outputs": [
    {
     "name": "stdout",
     "output_type": "stream",
     "text": [
      "MAE =  0.5257324679385922 0.3072334964868086\n",
      "MAE =  1.161157094870487 0.8076862680221281\n",
      "\n",
      "Coefficients of x_real part:  [  0.           0.82877735 -16.88524543  -5.10791451  -0.71564207\n",
      "   0.23529801   0.25939657  -0.45671391   8.52477122  -0.15754303] \n",
      "\n",
      "Coefficients of y_real part:  [ 0.         17.0653837  -0.58839762  6.8448768  -1.22933379  0.23042171\n",
      " -7.72881782  0.70502384 -0.33415667 -0.34562874] \n",
      "\n"
     ]
    }
   ],
   "source": [
    "# full_train_data['z_real2'] = full_train_data['z_real']**2\n",
    "# full_test_data['z_real2'] = full_test_data['z_real']**2\n",
    "# full_train_data['z_real2'] = np.log10(full_train_data['z_real']+1)\n",
    "# full_test_data['z_real2'] = np.log10(full_test_data['z_real']+1)\n",
    "# full_train_data.head(1)\n",
    "\n",
    "train_labels = full_train_data[['x_real', 'y_real']]\n",
    "train_data = full_train_data[['x', 'y', 'z_real']]\n",
    "test_labels = full_test_data[['x_real', 'y_real']]\n",
    "test_data = full_test_data[['x', 'y', 'z_real']]\n",
    "\n",
    "# train_data = np.hstack((train_data, train_data**2))\n",
    "# test_data = np.hstack((test_data, test_data**2))\n",
    "# test_labels, test_data = train_labels, train_data\n",
    "\n",
    "poly = PolynomialFeatures(2)\n",
    "scaler = StandardScaler()\n",
    "regressor = MultiOutputRegressor(linear_model.LinearRegression())\n",
    "\n",
    "pipeline = Pipeline(steps = [('polynomial', poly), ('scaling', scaler), ('regression', regressor)])\n",
    "pipeline.fit(train_data, train_labels)\n",
    "\n",
    "pickle.dump(pipeline, open('data/calibration_model_2.sav', 'wb')) # save model\n",
    "\n",
    "pred = pipeline.predict(train_data)\n",
    "mae = metrics.mean_absolute_error(train_labels, pred, multioutput='raw_values')\n",
    "print('MAE = ',  *mae)\n",
    "\n",
    "pred = pipeline.predict(test_data)\n",
    "mae = metrics.mean_absolute_error(test_labels, pred, multioutput='raw_values')\n",
    "mse = metrics.mean_squared_error(test_labels, pred, multioutput='raw_values')\n",
    "print('MAE = ',  *mae)\n",
    "# print('standart error = ',  *np.sqrt(mse))\n",
    "\n",
    "print('\\nCoefficients of x_real part: ', regressor.estimators_[0].coef_, '\\n')\n",
    "print('Coefficients of y_real part: ', regressor.estimators_[1].coef_, '\\n')"
   ]
  },
  {
   "cell_type": "code",
   "execution_count": 377,
   "id": "4eff275a",
   "metadata": {},
   "outputs": [
    {
     "name": "stdout",
     "output_type": "stream",
     "text": [
      "x_real, y_real [array([7.77096412, 7.26864499])]\n",
      "x_real, y_real [array([-5.79770879, -5.87962914])]\n",
      "x_real, y_real [array([1.51021596, 1.03404295])]\n"
     ]
    }
   ],
   "source": [
    "pred = pipeline.predict(train_data)\n",
    "\n",
    "# for index, row in train_labels.iterrows():\n",
    "#     print('actual ', row['x_real'], row['y_real'])\n",
    "#     print('predicted ', round(pred[index][0],1), round(pred[index][1],1))\n",
    "#     print('error ', round(pred[index][0]-row['x_real'],1), round(pred[index][1]-row['y_real'], 1), '\\n')\n",
    "\n",
    "arr = [[375,184,14,241,353,10,7,7,0], [259,308,22,308,242,8,-7,-7,20], [332,243,27,274,191,8,0,0,30]]\n",
    "for ab in arr:\n",
    "    kek = [*ab[0:2], ab[8]]\n",
    "    aza = np.array(kek, dtype=np.float64).reshape(1, -1)\n",
    "    pred = pipeline.predict(aza)\n",
    "    print('x_real, y_real', list(pred))"
   ]
  },
  {
   "cell_type": "code",
   "execution_count": 366,
   "id": "a5d301bb",
   "metadata": {},
   "outputs": [
    {
     "data": {
      "text/plain": [
       "array([11, 20])"
      ]
     },
     "execution_count": 366,
     "metadata": {},
     "output_type": "execute_result"
    }
   ],
   "source": [
    "arr = np.array([11.2, 19.8])\n",
    "np.round(arr).astype(int)"
   ]
  },
  {
   "cell_type": "code",
   "execution_count": null,
   "id": "275112a0",
   "metadata": {},
   "outputs": [],
   "source": []
  }
 ],
 "metadata": {
  "kernelspec": {
   "display_name": "Python 3",
   "language": "python",
   "name": "python3"
  },
  "language_info": {
   "codemirror_mode": {
    "name": "ipython",
    "version": 3
   },
   "file_extension": ".py",
   "mimetype": "text/x-python",
   "name": "python",
   "nbconvert_exporter": "python",
   "pygments_lexer": "ipython3",
   "version": "3.8.8"
  }
 },
 "nbformat": 4,
 "nbformat_minor": 5
}
