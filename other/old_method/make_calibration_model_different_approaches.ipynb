{
 "cells": [
  {
   "cell_type": "code",
   "execution_count": 30,
   "id": "85dcacc7",
   "metadata": {},
   "outputs": [
    {
     "name": "stdout",
     "output_type": "stream",
     "text": [
      "[[0 1 2]\n",
      " [3 4 5]] \n",
      "\n",
      " [[ 1.  0.  1.  2.  0.  0.  0.  1.  2.  4.]\n",
      " [ 1.  3.  4.  5.  9. 12. 15. 16. 20. 25.]]\n"
     ]
    }
   ],
   "source": [
    "import numpy as np\n",
    "import pandas as pd\n",
    "import matplotlib.pyplot as plt\n",
    "import random, math, time\n",
    "import pickle\n",
    "from sklearn import model_selection, datasets, linear_model, metrics, svm\n",
    "from sklearn.preprocessing import StandardScaler, PolynomialFeatures\n",
    "from sklearn.multioutput import MultiOutputRegressor\n",
    "from sklearn.pipeline import Pipeline\n",
    "import warnings\n",
    "warnings.filterwarnings('ignore')\n",
    "\n",
    "X = np.arange(6).reshape(2, 3)\n",
    "poly = PolynomialFeatures(2)\n",
    "print(X, '\\n\\n',poly.fit_transform(X) )"
   ]
  },
  {
   "cell_type": "markdown",
   "id": "abe13f1d",
   "metadata": {},
   "source": [
    "### Сверху видно, как работает PolynomialFeatures\n",
    "### Загрузим файл и разобъем на train/test:"
   ]
  },
  {
   "cell_type": "code",
   "execution_count": 31,
   "id": "e70b6b1c",
   "metadata": {},
   "outputs": [
    {
     "name": "stdout",
     "output_type": "stream",
     "text": [
      "Shapes of train:(36, 9)   test:(3, 9)   and all:(39, 9)\n"
     ]
    }
   ],
   "source": [
    "data = pd.read_csv('data/' + 'calibration_dots3.csv')\n",
    "\n",
    "full_train_data = data.iloc[0:36, :]\n",
    "full_test_data = data.iloc[36:, :]\n",
    "\n",
    "print('Shapes of train:{}   test:{}   and all:{}'.format(full_train_data.shape, full_test_data.shape, data.shape))"
   ]
  },
  {
   "cell_type": "markdown",
   "id": "d164a7f5",
   "metadata": {},
   "source": [
    "## Точки калибровки\n",
    "### Представлены в формате (координаты с 1cam), (координаты с 2cam), (реальные координаты)"
   ]
  },
  {
   "cell_type": "code",
   "execution_count": 32,
   "id": "97e47346",
   "metadata": {},
   "outputs": [
    {
     "data": {
      "text/html": [
       "<div>\n",
       "<style scoped>\n",
       "    .dataframe tbody tr th:only-of-type {\n",
       "        vertical-align: middle;\n",
       "    }\n",
       "\n",
       "    .dataframe tbody tr th {\n",
       "        vertical-align: top;\n",
       "    }\n",
       "\n",
       "    .dataframe thead th {\n",
       "        text-align: right;\n",
       "    }\n",
       "</style>\n",
       "<table border=\"1\" class=\"dataframe\">\n",
       "  <thead>\n",
       "    <tr style=\"text-align: right;\">\n",
       "      <th></th>\n",
       "      <th>x</th>\n",
       "      <th>y</th>\n",
       "      <th>r</th>\n",
       "      <th>x2</th>\n",
       "      <th>y2</th>\n",
       "      <th>r2</th>\n",
       "      <th>x_real</th>\n",
       "      <th>y_real</th>\n",
       "      <th>z_real</th>\n",
       "    </tr>\n",
       "  </thead>\n",
       "  <tbody>\n",
       "    <tr>\n",
       "      <th>0</th>\n",
       "      <td>234</td>\n",
       "      <td>352</td>\n",
       "      <td>10</td>\n",
       "      <td>382</td>\n",
       "      <td>311</td>\n",
       "      <td>10</td>\n",
       "      <td>-15</td>\n",
       "      <td>-15</td>\n",
       "      <td>0</td>\n",
       "    </tr>\n",
       "    <tr>\n",
       "      <th>1</th>\n",
       "      <td>325</td>\n",
       "      <td>355</td>\n",
       "      <td>10</td>\n",
       "      <td>394</td>\n",
       "      <td>328</td>\n",
       "      <td>12</td>\n",
       "      <td>0</td>\n",
       "      <td>-15</td>\n",
       "      <td>0</td>\n",
       "    </tr>\n",
       "    <tr>\n",
       "      <th>2</th>\n",
       "      <td>422</td>\n",
       "      <td>357</td>\n",
       "      <td>10</td>\n",
       "      <td>404</td>\n",
       "      <td>355</td>\n",
       "      <td>15</td>\n",
       "      <td>15</td>\n",
       "      <td>-15</td>\n",
       "      <td>0</td>\n",
       "    </tr>\n",
       "  </tbody>\n",
       "</table>\n",
       "</div>"
      ],
      "text/plain": [
       "     x    y   r   x2   y2  r2  x_real  y_real  z_real\n",
       "0  234  352  10  382  311  10     -15     -15       0\n",
       "1  325  355  10  394  328  12       0     -15       0\n",
       "2  422  357  10  404  355  15      15     -15       0"
      ]
     },
     "execution_count": 32,
     "metadata": {},
     "output_type": "execute_result"
    }
   ],
   "source": [
    "data.head(3)"
   ]
  },
  {
   "cell_type": "markdown",
   "id": "40c1107f",
   "metadata": {},
   "source": [
    "### Первая модель находит координату z_real по y1, x2"
   ]
  },
  {
   "cell_type": "code",
   "execution_count": 104,
   "id": "70b0660d",
   "metadata": {},
   "outputs": [
    {
     "name": "stdout",
     "output_type": "stream",
     "text": [
      "MAE =  0.31933886506035886\n",
      "MSE/standart error =  0.11636497404498786 0.34112310687637076\n",
      "Coefficients:  [ 0.         -1.59965462  3.9308887  -2.40994563 -9.3820763   2.0147859 ]\n"
     ]
    }
   ],
   "source": [
    "train_labels = full_train_data[['z_real']]\n",
    "test_labels = full_test_data[['z_real']]\n",
    "train_data = full_train_data[['y', 'x2']]\n",
    "test_data = full_test_data[['y', 'x2']]\n",
    "# test_labels, test_data = train_labels, train_data\n",
    "# print(train_labels)\n",
    "\n",
    "poly1 = PolynomialFeatures(2)\n",
    "scaler1 = StandardScaler()\n",
    "regressor1 = MultiOutputRegressor(linear_model.LinearRegression())\n",
    "\n",
    "pipeline1 = Pipeline(steps = [('polynomial', poly1), ('scaling', scaler1), ('regression', regressor1)])\n",
    "pipeline1.fit(train_data, train_labels)\n",
    "\n",
    "# pickle.dump(pipeline1, open('data/calibration_model_1_test.sav', 'wb')) # save model\n",
    "\n",
    "pred1 = pipeline1.predict(test_data)\n",
    "mae = metrics.mean_absolute_error(test_labels, pred1, multioutput='raw_values')\n",
    "print('MAE = ',  *mae)\n",
    "mse = metrics.mean_squared_error(test_labels, pred1, multioutput='raw_values')\n",
    "print('MSE/standart error = ',  *mse, math.sqrt(*mse))\n",
    "print('Coefficients: ', regressor1.estimators_[0].coef_)"
   ]
  },
  {
   "cell_type": "markdown",
   "id": "a47e99b8",
   "metadata": {},
   "source": [
    "#### Применение на реальных данных:"
   ]
  },
  {
   "cell_type": "code",
   "execution_count": 105,
   "id": "07b5ca03",
   "metadata": {},
   "outputs": [
    {
     "name": "stdout",
     "output_type": "stream",
     "text": [
      "[array([0.34486829])]\n",
      "[array([20.45180735])]\n",
      "[array([29.83865904])]\n"
     ]
    }
   ],
   "source": [
    "arr = [[394,385,15,244,340,13,7,7,0], [283,221,13,341,199,11,-7,-7,20], [333,136,14,298,130,12,0,0,30]] # Shuld be 0, 20, 30\n",
    "for ab in arr:\n",
    "    kek = [ab[1], ab[3]]\n",
    "    aza = np.array(kek, dtype=np.float64).reshape(1, -1)\n",
    "    pred = pipeline1.predict(aza)\n",
    "    print(list(pred))"
   ]
  },
  {
   "cell_type": "markdown",
   "id": "bfacc000",
   "metadata": {},
   "source": [
    "### Вторая модель как Первая, но на основании других полей. Находит координату z_real по x1, y2"
   ]
  },
  {
   "cell_type": "code",
   "execution_count": 106,
   "id": "2565bf12",
   "metadata": {},
   "outputs": [
    {
     "name": "stdout",
     "output_type": "stream",
     "text": [
      "MAE =  0.4303866491587443\n",
      "MSE/standart error =  0.20424964309726532 0.4519398666827981\n",
      "Coefficients:  [  0.          -4.49916939 -13.54758999   0.16032307   8.35585825\n",
      "  -3.74861091]\n"
     ]
    }
   ],
   "source": [
    "train_labels = full_train_data[['z_real']]\n",
    "test_labels = full_test_data[['z_real']]\n",
    "train_data = full_train_data[['x', 'y2']]\n",
    "test_data = full_test_data[['x', 'y2']]\n",
    "# test_labels, test_data = train_labels, train_data\n",
    "# print(train_labels)\n",
    "\n",
    "poly2 = PolynomialFeatures(2)\n",
    "scaler2 = StandardScaler()\n",
    "regressor2 = MultiOutputRegressor(linear_model.LinearRegression())\n",
    "\n",
    "pipeline2 = Pipeline(steps = [('polynomial', poly2), ('scaling', scaler2), ('regression', regressor2)])\n",
    "pipeline2.fit(train_data, train_labels)\n",
    "\n",
    "# pickle.dump(pipeline2, open('data/calibration_model_1_2_test.sav', 'wb')) # save model\n",
    "\n",
    "pred2 = pipeline2.predict(test_data)\n",
    "mae = metrics.mean_absolute_error(test_labels, pred2, multioutput='raw_values')\n",
    "print('MAE = ',  *mae)\n",
    "mse = metrics.mean_squared_error(test_labels, pred2, multioutput='raw_values')\n",
    "print('MSE/standart error = ',  *mse, math.sqrt(*mse))\n",
    "print('Coefficients: ', regressor2.estimators_[0].coef_)"
   ]
  },
  {
   "cell_type": "code",
   "execution_count": 107,
   "id": "7eefcb30",
   "metadata": {},
   "outputs": [
    {
     "name": "stdout",
     "output_type": "stream",
     "text": [
      "[0.39906273189801844, 20.519244091195404, 29.79371855176477]\n",
      "MAE =  0.374862757109551\n",
      "MSE/standart error =  0.15713917537242492 0.3964078396959688\n"
     ]
    }
   ],
   "source": [
    "arr = [[394,385,15,244,340,13,7,7,0], [283,221,13,341,199,11,-7,-7,20], [333,136,14,298,130,12,0,0,30]] # Shuld be 0, 20, 30\n",
    "\n",
    "pred1 = pipeline1.predict(full_test_data[['y', 'x2']])\n",
    "pred2 = pipeline2.predict(full_test_data[['x', 'y2']])\n",
    "avg = []\n",
    "for i in range(len(pred1)):\n",
    "    avg.append(float(pred1[i]+pred2[i])/2)\n",
    "print(avg)\n",
    "mae = metrics.mean_absolute_error(test_labels, avg, multioutput='raw_values')\n",
    "print('MAE = ',  *mae)\n",
    "mse = metrics.mean_squared_error(test_labels, avg, multioutput='raw_values')\n",
    "print('MSE/standart error = ',  *mse, math.sqrt(*mse))"
   ]
  },
  {
   "cell_type": "markdown",
   "id": "57ef84df",
   "metadata": {},
   "source": [
    "### Ensemble of first/ second models"
   ]
  },
  {
   "cell_type": "code",
   "execution_count": null,
   "id": "3d94dffe",
   "metadata": {},
   "outputs": [],
   "source": []
  },
  {
   "cell_type": "markdown",
   "id": "b07bd026",
   "metadata": {},
   "source": [
    "### Ещё один вариант: Находит координату z_real по x1, y1, x2, y2"
   ]
  },
  {
   "cell_type": "code",
   "execution_count": 108,
   "id": "81adaef8",
   "metadata": {},
   "outputs": [
    {
     "name": "stdout",
     "output_type": "stream",
     "text": [
      "MAE =  0.2095983937560959\n",
      "MSE/standart error =  0.1038230773574919 0.3222158862587192\n",
      "Coefficients:  [ 0.00000000e+00 -3.68531111e+00  5.82896116e+00  1.47098272e-01\n",
      " -1.62956080e+01 -5.31302425e-03 -5.33751632e+00  4.29000005e-01\n",
      "  1.16816389e+01 -7.57253273e-01 -3.69243193e+00 -3.47668937e+00\n",
      "  8.40230613e-01  1.49177567e+00  7.69558854e-01]\n"
     ]
    }
   ],
   "source": [
    "train_labels = full_train_data[['z_real']]\n",
    "test_labels = full_test_data[['z_real']]\n",
    "train_data = full_train_data[['x', 'y', 'x2', 'y2']]\n",
    "test_data = full_test_data[['x', 'y', 'x2', 'y2']]\n",
    "# test_labels, test_data = train_labels, train_data\n",
    "# print(train_labels)\n",
    "\n",
    "poly3 = PolynomialFeatures(2)\n",
    "scaler3 = StandardScaler()\n",
    "regressor3 = MultiOutputRegressor(linear_model.LinearRegression())\n",
    "\n",
    "pipeline3 = Pipeline(steps = [('polynomial', poly3), ('scaling', scaler3), ('regression', regressor3)])\n",
    "pipeline3.fit(train_data, train_labels)\n",
    "\n",
    "# pickle.dump(pipeline3, open('data/calibration_model_1_3_test.sav', 'wb')) # save model\n",
    "\n",
    "pred3 = pipeline3.predict(test_data)\n",
    "mae = metrics.mean_absolute_error(test_labels, pred3, multioutput='raw_values')\n",
    "print('MAE = ',  *mae)\n",
    "mse = metrics.mean_squared_error(test_labels, pred3, multioutput='raw_values')\n",
    "print('MSE/standart error = ',  *mse, math.sqrt(*mse))\n",
    "print('Coefficients: ', regressor3.estimators_[0].coef_)"
   ]
  },
  {
   "cell_type": "markdown",
   "id": "a0a34426",
   "metadata": {},
   "source": [
    "### Вторая модель находит координаты x_real, y_real по x, y, z_real\n",
    "#### Обе модели аппроксимируются Полиномом 2й степени"
   ]
  },
  {
   "cell_type": "code",
   "execution_count": 109,
   "id": "00f54b68",
   "metadata": {},
   "outputs": [
    {
     "name": "stdout",
     "output_type": "stream",
     "text": [
      "MAE =  0.3834737599889404 0.40796364094655135\n",
      "MAE =  0.19551530139657705 0.1506113135961822\n",
      "\n",
      "Coefficients of x_real part:  [ 0.          2.56862393 -7.96972716 -1.07833142  1.26938974 11.18486378\n",
      "  1.12948224  0.25593143 -0.3219025   0.40289879] \n",
      "\n",
      "Coefficients of y_real part:  [  0.          -7.95969178 -22.02553762   1.53436652   0.17625752\n",
      "   9.4188145   -0.79749844   2.41683537  -0.38577829  -0.36742528] \n",
      "\n"
     ]
    }
   ],
   "source": [
    "train_labels = full_train_data[['x_real', 'y_real']]\n",
    "test_labels = full_test_data[['x_real', 'y_real']]\n",
    "train_data = full_train_data[['x', 'x2', 'z_real']]\n",
    "test_data = full_test_data[['x', 'x2', 'z_real']]\n",
    "\n",
    "poly = PolynomialFeatures(2)\n",
    "scaler = StandardScaler()\n",
    "regressor = MultiOutputRegressor(linear_model.LinearRegression())\n",
    "\n",
    "pipeline = Pipeline(steps = [('polynomial', poly), ('scaling', scaler), ('regression', regressor)])\n",
    "pipeline.fit(train_data, train_labels)\n",
    "\n",
    "pickle.dump(pipeline, open('data/calibration_model_2.sav', 'wb')) # save model\n",
    "\n",
    "pred = pipeline.predict(train_data)\n",
    "mae = metrics.mean_absolute_error(train_labels, pred, multioutput='raw_values')\n",
    "print('MAE = ',  *mae)\n",
    "\n",
    "pred = pipeline.predict(test_data)\n",
    "mae = metrics.mean_absolute_error(test_labels, pred, multioutput='raw_values')\n",
    "print('MAE = ',  *mae)\n",
    "\n",
    "print('\\nCoefficients of x_real part: ', regressor.estimators_[0].coef_, '\\n')\n",
    "print('Coefficients of y_real part: ', regressor.estimators_[1].coef_, '\\n')"
   ]
  },
  {
   "cell_type": "code",
   "execution_count": 97,
   "id": "9a760960",
   "metadata": {},
   "outputs": [
    {
     "name": "stdout",
     "output_type": "stream",
     "text": [
      "x_real, y_real [array([6.55705218, 8.16449924])]\n",
      "x_real, y_real [array([-6.65816914, -5.57450783])]\n",
      "x_real, y_real [array([0.04359505, 1.12678321])]\n"
     ]
    }
   ],
   "source": [
    "arr = [[394,385,15,244,340,13,7,7,0], [283,221,13,341,199,11,-7,-7,20], [333,136,14,298,130,12,0,0,30]]\n",
    "for ab in arr:\n",
    "    kek = [ab[0], ab[3], ab[8]]\n",
    "    aza = np.array(kek, dtype=np.float64).reshape(1, -1)\n",
    "    pred = pipeline.predict(aza)\n",
    "    print('x_real, y_real', list(pred))"
   ]
  },
  {
   "cell_type": "code",
   "execution_count": 110,
   "id": "1d19fb56",
   "metadata": {},
   "outputs": [
    {
     "name": "stdout",
     "output_type": "stream",
     "text": [
      "MAE =  0.2784109423916143 0.30472685930851146\n",
      "MAE =  0.7763920311209672 0.27722347538311887\n",
      "\n",
      "Coefficients of x_real part:  [  0.           1.54210839  -3.10166474  -4.54171088 136.89911262\n",
      " 105.28255861   2.47712581  12.7167464    9.80765709 -16.81735524\n",
      "  10.06899872   0.9624321  -11.31891835 -16.12834434  -3.63855876\n",
      "   0.24040311   5.26454838   5.15378048 -69.57794383 -46.54697522\n",
      " -34.51175688] \n",
      "\n",
      "Coefficients of y_real part:  [  0.           0.98268914  69.71518094 -20.99681642 -77.67740624\n",
      "  -1.40597847  -0.51227326  -1.34905561   9.83170629  -7.45888166\n",
      " -10.24628671 -44.66550787   6.98386162  -3.15024471 -28.55493493\n",
      "   4.01905237  -9.05852608  -5.93417395  60.40232984  36.94805798\n",
      "   4.25836282] \n",
      "\n"
     ]
    },
    {
     "ename": "IndexError",
     "evalue": "list index out of range",
     "output_type": "error",
     "traceback": [
      "\u001b[1;31m---------------------------------------------------------------------------\u001b[0m",
      "\u001b[1;31mIndexError\u001b[0m                                Traceback (most recent call last)",
      "\u001b[1;32m<ipython-input-110-f38ac17b3af4>\u001b[0m in \u001b[0;36m<module>\u001b[1;34m\u001b[0m\n\u001b[0;32m     23\u001b[0m \u001b[0mprint\u001b[0m\u001b[1;33m(\u001b[0m\u001b[1;34m'\\nCoefficients of x_real part: '\u001b[0m\u001b[1;33m,\u001b[0m \u001b[0mregressor\u001b[0m\u001b[1;33m.\u001b[0m\u001b[0mestimators_\u001b[0m\u001b[1;33m[\u001b[0m\u001b[1;36m0\u001b[0m\u001b[1;33m]\u001b[0m\u001b[1;33m.\u001b[0m\u001b[0mcoef_\u001b[0m\u001b[1;33m,\u001b[0m \u001b[1;34m'\\n'\u001b[0m\u001b[1;33m)\u001b[0m\u001b[1;33m\u001b[0m\u001b[1;33m\u001b[0m\u001b[0m\n\u001b[0;32m     24\u001b[0m \u001b[0mprint\u001b[0m\u001b[1;33m(\u001b[0m\u001b[1;34m'Coefficients of y_real part: '\u001b[0m\u001b[1;33m,\u001b[0m \u001b[0mregressor\u001b[0m\u001b[1;33m.\u001b[0m\u001b[0mestimators_\u001b[0m\u001b[1;33m[\u001b[0m\u001b[1;36m1\u001b[0m\u001b[1;33m]\u001b[0m\u001b[1;33m.\u001b[0m\u001b[0mcoef_\u001b[0m\u001b[1;33m,\u001b[0m \u001b[1;34m'\\n'\u001b[0m\u001b[1;33m)\u001b[0m\u001b[1;33m\u001b[0m\u001b[1;33m\u001b[0m\u001b[0m\n\u001b[1;32m---> 25\u001b[1;33m \u001b[0mprint\u001b[0m\u001b[1;33m(\u001b[0m\u001b[1;34m'Coefficients of z_real part: '\u001b[0m\u001b[1;33m,\u001b[0m \u001b[0mregressor\u001b[0m\u001b[1;33m.\u001b[0m\u001b[0mestimators_\u001b[0m\u001b[1;33m[\u001b[0m\u001b[1;36m2\u001b[0m\u001b[1;33m]\u001b[0m\u001b[1;33m.\u001b[0m\u001b[0mcoef_\u001b[0m\u001b[1;33m,\u001b[0m \u001b[1;34m'\\n'\u001b[0m\u001b[1;33m)\u001b[0m\u001b[1;33m\u001b[0m\u001b[1;33m\u001b[0m\u001b[0m\n\u001b[0m",
      "\u001b[1;31mIndexError\u001b[0m: list index out of range"
     ]
    }
   ],
   "source": [
    "train_labels = full_train_data[['x_real', 'y_real']]\n",
    "test_labels = full_test_data[['x_real', 'y_real']]\n",
    "train_data = full_train_data[['x', 'y', 'x2', 'y2', 'z_real']]\n",
    "test_data = full_test_data[['x', 'y', 'x2', 'y2', 'z_real']]\n",
    "\n",
    "poly = PolynomialFeatures(2)\n",
    "scaler = StandardScaler()\n",
    "regressor = MultiOutputRegressor(linear_model.LinearRegression())\n",
    "\n",
    "pipeline = Pipeline(steps = [('polynomial', poly), ('scaling', scaler), ('regression', regressor)])\n",
    "pipeline.fit(train_data, train_labels)\n",
    "\n",
    "pickle.dump(pipeline, open('data/calibration_model_2.sav', 'wb')) # save model\n",
    "\n",
    "pred = pipeline.predict(train_data)\n",
    "mae = metrics.mean_absolute_error(train_labels, pred, multioutput='raw_values')\n",
    "print('MAE = ',  *mae)\n",
    "\n",
    "pred = pipeline.predict(test_data)\n",
    "mae = metrics.mean_absolute_error(test_labels, pred, multioutput='raw_values')\n",
    "print('MAE = ',  *mae)\n",
    "\n",
    "print('\\nCoefficients of x_real part: ', regressor.estimators_[0].coef_, '\\n')\n",
    "print('Coefficients of y_real part: ', regressor.estimators_[1].coef_, '\\n')\n",
    "print('Coefficients of z_real part: ', regressor.estimators_[2].coef_, '\\n')"
   ]
  },
  {
   "cell_type": "code",
   "execution_count": 112,
   "id": "d0f12db4",
   "metadata": {},
   "outputs": [
    {
     "name": "stdout",
     "output_type": "stream",
     "text": [
      "x_real, y_real [array([7.7231442 , 7.48328612])]\n",
      "x_real, y_real [array([-7.77136955, -7.01943178])]\n",
      "x_real, y_real [array([ 0.83466234, -0.32895253])]\n"
     ]
    }
   ],
   "source": [
    "arr = [[394,385,15,244,340,13,7,7,0], [283,221,13,341,199,11,-7,-7,20], [333,136,14,298,130,12,0,0,30]]\n",
    "for ab in arr:\n",
    "    kek = [ab[0], ab[1], ab[3], ab[4], ab[8]]\n",
    "    aza = np.array(kek, dtype=np.float64).reshape(1, -1)\n",
    "    pred = pipeline.predict(aza)\n",
    "    print('x_real, y_real', list(pred))"
   ]
  },
  {
   "cell_type": "code",
   "execution_count": null,
   "id": "0e4f8db8",
   "metadata": {},
   "outputs": [],
   "source": []
  }
 ],
 "metadata": {
  "kernelspec": {
   "display_name": "Python 3",
   "language": "python",
   "name": "python3"
  },
  "language_info": {
   "codemirror_mode": {
    "name": "ipython",
    "version": 3
   },
   "file_extension": ".py",
   "mimetype": "text/x-python",
   "name": "python",
   "nbconvert_exporter": "python",
   "pygments_lexer": "ipython3",
   "version": "3.8.8"
  }
 },
 "nbformat": 4,
 "nbformat_minor": 5
}
